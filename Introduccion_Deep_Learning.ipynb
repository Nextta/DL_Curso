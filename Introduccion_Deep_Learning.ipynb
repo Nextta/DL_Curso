{
 "cells": [
  {
   "cell_type": "markdown",
   "metadata": {},
   "source": [
    "**Introducción al Deep Learning**"
   ]
  },
  {
   "cell_type": "markdown",
   "metadata": {},
   "source": [
    "*Definir un modelo lineal simple*\n",
    "\n",
    "En primer lugar, tenemos que importar las librerías necesarias para poder crear nuestro modelo.\n",
    "\n",
    "Vamos a trabajar con la librería de Temsorflow. Para instalar la librería ejecutamos el siguiente comando: pip install tensorflow\n",
    "\n",
    "Documentación de Tensorflow: https://www.tensorflow.org/?hl=es"
   ]
  },
  {
   "cell_type": "code",
   "execution_count": 1,
   "metadata": {},
   "outputs": [],
   "source": [
    "from tensorflow import keras\n",
    "from tensorflow.keras import layers"
   ]
  },
  {
   "cell_type": "markdown",
   "metadata": {},
   "source": [
    "*Configuración del modelo*\n",
    "\n",
    "Para configurar el modelo, debemos entender primero dos parámetros que hay que pasarle. El primer parámetro es *units*, este parámetro le indicará a los modelos qué cantidad de datos tiene que devolver como respuesta. El segundo parámetro es *input_shape*, en este parámetro le indicamos al modelo la cantidad de datos que va a recibir para tener que hacer la predicción o el entrenamiento.\n",
    "\n",
    "Ej: Si queremos que nos devuelva la cantidad de calorías que tiene una tarta, al modelo le tendríamos que pasar los ingredientes de la tarta y él nos devolvería las calorías.\n",
    "units = calorías y input_shape = ingredientes\n",
    "\n",
    "Imaginando que los ingredientes son 3: harina, huevos y azúcar, el input_shape = [3] y cómo nos devuelve solo un valor que sería las calorías, units = 1\n",
    "\n",
    "En el siguiente código se muestra cómo configuramos un modelo lineal simple."
   ]
  },
  {
   "cell_type": "code",
   "execution_count": 3,
   "metadata": {},
   "outputs": [],
   "source": [
    "model = keras.Sequential([\n",
    "    layers.Dense(units=1, input_shape=[3])\n",
    "])"
   ]
  },
  {
   "cell_type": "markdown",
   "metadata": {},
   "source": [
    "El código completo quedaría de la siguiente forma:"
   ]
  },
  {
   "cell_type": "code",
   "execution_count": 1,
   "metadata": {},
   "outputs": [
    {
     "name": "stderr",
     "output_type": "stream",
     "text": [
      "c:\\Users\\jairo\\AppData\\Local\\Programs\\Python\\Python312\\Lib\\site-packages\\keras\\src\\layers\\core\\dense.py:87: UserWarning: Do not pass an `input_shape`/`input_dim` argument to a layer. When using Sequential models, prefer using an `Input(shape)` object as the first layer in the model instead.\n",
      "  super().__init__(activity_regularizer=activity_regularizer, **kwargs)\n"
     ]
    }
   ],
   "source": [
    "from tensorflow import keras\n",
    "from tensorflow.keras import layers\n",
    "\n",
    "model = keras.Sequential([\n",
    "    layers.Dense(units=1, input_shape=[3])\n",
    "])"
   ]
  },
  {
   "cell_type": "markdown",
   "metadata": {},
   "source": [
    "**Layers**"
   ]
  },
  {
   "cell_type": "markdown",
   "metadata": {},
   "source": [
    "Ahora que ya sabemos configurar un modelo simple, vamos a profundizar en el uso de las capas (layers). Las capas nos permite hacer un modelo más complejo, cuanto más capas, más neuronas, y cuanto más neuronas, más procesamiento. Para entender un poco las capas de un modelo, imaginamos las capas de una cebolla, cuanto más capas quites de la cebolla, más cerca del centro estas.\n",
    "\n",
    "Como en una cebolla, las capas de un modelo son parecidas. En una cebolla tenemos la capa superior y las capas ocultas dentro de la capa superior. Un modelo funciona igual, tiene su capa densa por donde introducimos los datos y tambien puede tener capas ocultas que permite añadir más neuronas al modelo y hacerlo más complejo."
   ]
  },
  {
   "cell_type": "markdown",
   "metadata": {},
   "source": [
    "El modelo secuencial que hemos estado utilizando conectará una lista de capas en orden de la primera a la última: la primera capa recibe la entrada, la última capa produce la salida. Es por eso que en la primera capa le pasamos el *input_shape* que como ya sabemos indica la cantidad de datos que vas a pasar al modelo. Tambnien a las capas ocultas les pasaremos un nuevo parametro llamado *activation* al que como valor le pasaremos *relu*.\n",
    "\n",
    "Resulta que dos capas densas sin nada entre ellas no son mejores que una sola capa densa por sí sola. Las capas densas por sí solas nunca podrán sacarnos del mundo de las líneas y los planos. Lo que necesitamos es algo no lineal. Lo que necesitamos son funciones de activación. Por eso usamos la función *relu* para eso."
   ]
  },
  {
   "cell_type": "markdown",
   "metadata": {},
   "source": [
    "*Construcción de modelos secuenciales*"
   ]
  },
  {
   "cell_type": "code",
   "execution_count": 2,
   "metadata": {},
   "outputs": [
    {
     "name": "stderr",
     "output_type": "stream",
     "text": [
      "c:\\Users\\jairo\\AppData\\Local\\Programs\\Python\\Python312\\Lib\\site-packages\\keras\\src\\layers\\core\\dense.py:87: UserWarning: Do not pass an `input_shape`/`input_dim` argument to a layer. When using Sequential models, prefer using an `Input(shape)` object as the first layer in the model instead.\n",
      "  super().__init__(activity_regularizer=activity_regularizer, **kwargs)\n"
     ]
    }
   ],
   "source": [
    "from tensorflow import keras\n",
    "from tensorflow.keras import layers\n",
    "\n",
    "model = keras.Sequential([\n",
    "    # Capas ocultas (Hidden Layers)\n",
    "    layers.Dense(units=4, activation=\"relu\", input_shape=[3]),\n",
    "    layers.Dense(units=3, activation=\"relu\"),\n",
    "    # Capa lineal\n",
    "    layers.Dense(units=1)\n",
    "])"
   ]
  },
  {
   "cell_type": "markdown",
   "metadata": {},
   "source": [
    "Hay toda una familia de variantes de la activación 'relu' -- 'elu', 'selu', y 'swish', entre otras -- todas las cuales puedes usar en Keras. A veces una activación funcionará mejor que otra en una tarea determinada, por lo que podrías considerar experimentar con activaciones a medida que desarrollas un modelo. La activación ReLU tiende a funcionar bien en la mayoría de los problemas, por lo que es una buena para empezar."
   ]
  },
  {
   "cell_type": "markdown",
   "metadata": {},
   "source": [
    "**Entrenamiento de un modelo**"
   ]
  },
  {
   "cell_type": "markdown",
   "metadata": {},
   "source": [
    "LLegamos a la parte más interesante, a la de entrenar un modelo con datos. Hasta ahora habíamos creado el modelo, pero no estaba entrenado con nada. Para entrenar un modelo, necesitamos lo más importante que son los datos. Imagina que quieres saber las calorías de una tarta, para eso necesitamos muchos datos de diferentes tartas con sus ingredientes y las calorías.\n",
    "\n",
    "EJ: Tenemos un dataframe con los datos de 100 tartas que tienen sus ingredientes: Azúcar, harina, huevos, calorias.\n",
    "\n",
    "Como nos interesa que el modelo aprenda a calcular las calorías vamos a tener que dividir los datos en [Azucar, harina, huevos] y [calorías]. De esta manera, le indicamos al modelo los datos con los que tiene que aprender ([Azucar, harina, huevos]) y el resultado que tiene que devolver ([calorías])"
   ]
  },
  {
   "cell_type": "markdown",
   "metadata": {},
   "source": [
    "Además de los datos de entrenamiento, necesitamos dos cosas más:\n",
    "\n",
    "* Una \"loss function\" (función de pérdida) que mide la calidad de las predicciones de la red.\n",
    "* Un \"optimizer\" (optimizador) que puede indicar a la red cómo cambiar sus pesos."
   ]
  },
  {
   "cell_type": "markdown",
   "metadata": {},
   "source": [
    "*Loss Function*\n",
    "\n",
    "Hemos visto cómo diseñar un modelo, pero no hemos visto cómo decirle al modelo qué problema debe resolver. Este es el trabajo de la función de pérdida.\n",
    "\n",
    "La función de pérdida mide la disparidad entre el valor real del objetivo y el valor que predice el modelo.\n",
    "\n",
    "Cada problema requiere una función de pérdida distinta. Por ejemplo, en los que la tarea consiste en predecir algún valor numérico: calorías en 80 cereales, puntuación en la calidad del vino tinto. Otras tareas de regresión pueden consistir en predecir el precio de una casa o la eficiencia del combustible de un coche.\n",
    "\n",
    "Una función de pérdida común para los problemas de regresión es el error medio absoluto o MAE. MAE mide la disparidad respecto al dato verdadero respecto al que precide el modelo.\n",
    "\n",
    "Además de MAE, otras funciones de pérdida que puedes ver para problemas de regresión son el error cuadrático medio (MSE) o la pérdida de Huber (ambas disponibles en Keras).\n",
    "\n",
    "Durante el entrenamiento, el modelo utilizará la función de pérdida como guía para encontrar los valores correctos de sus pesos (una pérdida menor es mejor). En otras palabras, la función de pérdida indica a la red su objetivo."
   ]
  },
  {
   "cell_type": "markdown",
   "metadata": {},
   "source": [
    "*Optimizer*\n",
    "\n",
    "Hemos descrito el problema que queremos que resuelva el modelo, pero ahora tenemos que decir cómo resolverlo. Este es el trabajo del optimizador. El optimizador es un algoritmo que ajusta los pesos para minimizar la pérdida.\n",
    "\n",
    "Los pesos de un modelo son los valores que usa para predecir el resultado."
   ]
  },
  {
   "cell_type": "markdown",
   "metadata": {},
   "source": [
    "*Añadir la pérdida y el optimizador*\n",
    "\n",
    "Después de definir un modelo, puede añadir una función de pérdida y un optimizador con el método de compilación del modelo:"
   ]
  },
  {
   "cell_type": "code",
   "execution_count": null,
   "metadata": {},
   "outputs": [],
   "source": [
    "model.compile(\n",
    "    optimizer=\"adam\",\n",
    "    loss=\"mae\"\n",
    ")"
   ]
  },
  {
   "cell_type": "markdown",
   "metadata": {},
   "source": [
    "El optimizador adam permite ajustar de forma automática los pesos del modelo, así que usaremos ese."
   ]
  },
  {
   "cell_type": "markdown",
   "metadata": {},
   "source": [
    "El código completo quedaria así:"
   ]
  },
  {
   "cell_type": "code",
   "execution_count": null,
   "metadata": {},
   "outputs": [],
   "source": [
    "from tensorflow import keras\n",
    "from tensorflow.keras import layers\n",
    "\n",
    "model = keras.Sequential([\n",
    "    layers.Dense(units=20, activation=\"relu\", input_shape=[3]),\n",
    "    layers.Dense(units=20, activation=\"relu\"),\n",
    "    layers.Dense(units=1)\n",
    "])\n",
    "\n",
    "model.compile(\n",
    "    optimizer=\"adam\",\n",
    "    loss=\"mae\"\n",
    ")"
   ]
  }
 ],
 "metadata": {
  "kernelspec": {
   "display_name": "Python 3",
   "language": "python",
   "name": "python3"
  },
  "language_info": {
   "codemirror_mode": {
    "name": "ipython",
    "version": 3
   },
   "file_extension": ".py",
   "mimetype": "text/x-python",
   "name": "python",
   "nbconvert_exporter": "python",
   "pygments_lexer": "ipython3",
   "version": "3.12.3"
  }
 },
 "nbformat": 4,
 "nbformat_minor": 2
}
