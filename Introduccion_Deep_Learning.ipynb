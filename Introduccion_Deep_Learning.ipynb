{
 "cells": [
  {
   "cell_type": "markdown",
   "metadata": {},
   "source": [
    "**Introducción al Deep Learning**"
   ]
  },
  {
   "cell_type": "markdown",
   "metadata": {},
   "source": [
    "*Definir un modelo lineal simple*\n",
    "\n",
    "En primer lugar, tenemos que importar las librerías necesarias para poder crear nuestro modelo.\n",
    "\n",
    "Vamos a trabajar con la librería de Temsorflow. Para instalar la librería ejecutamos el siguiente comando: pip install tensorflow\n",
    "\n",
    "Documentación de Tensorflow: https://www.tensorflow.org/?hl=es"
   ]
  },
  {
   "cell_type": "code",
   "execution_count": 1,
   "metadata": {},
   "outputs": [],
   "source": [
    "from tensorflow import keras\n",
    "from tensorflow.keras import layers"
   ]
  },
  {
   "cell_type": "markdown",
   "metadata": {},
   "source": [
    "*Configuración del modelo*\n",
    "\n",
    "Para configurar el modelo, debemos entender primero dos parámetros que hay que pasarle. El primer parámetro es *units*, este parámetro le indicará a los modelos qué cantidad de datos tiene que devolver como respuesta. El segundo parámetro es *input_shape*, en este parámetro le indicamos al modelo la cantidad de datos que va a recibir para tener que hacer la predicción o el entrenamiento.\n",
    "\n",
    "Ej: Si queremos que nos devuelva la cantidad de calorías que tiene una tarta, al modelo le tendríamos que pasar los ingredientes de la tarta y él nos devolvería las calorías.\n",
    "units = calorías y input_shape = ingredientes\n",
    "\n",
    "Imaginando que los ingredientes son 3: harina, huevos y azúcar, el input_shape = [3] y cómo nos devuelve solo un valor que sería las calorías, units = 1\n",
    "\n",
    "En el siguiente código se muestra cómo configuramos un modelo lineal simple."
   ]
  },
  {
   "cell_type": "code",
   "execution_count": 3,
   "metadata": {},
   "outputs": [],
   "source": [
    "model = keras.Sequential([\n",
    "    layers.Dense(units=1, input_shape=[3])\n",
    "])"
   ]
  },
  {
   "cell_type": "markdown",
   "metadata": {},
   "source": [
    "El código completo quedaría de la siguiente forma:"
   ]
  },
  {
   "cell_type": "code",
   "execution_count": 5,
   "metadata": {},
   "outputs": [],
   "source": [
    "from tensorflow import keras\n",
    "from tensorflow.keras import layers\n",
    "\n",
    "model = keras.Sequential([\n",
    "    layers.Dense(units=1, input_shape=[3])\n",
    "])"
   ]
  }
 ],
 "metadata": {
  "kernelspec": {
   "display_name": "Python 3",
   "language": "python",
   "name": "python3"
  },
  "language_info": {
   "codemirror_mode": {
    "name": "ipython",
    "version": 3
   },
   "file_extension": ".py",
   "mimetype": "text/x-python",
   "name": "python",
   "nbconvert_exporter": "python",
   "pygments_lexer": "ipython3",
   "version": "3.12.3"
  }
 },
 "nbformat": 4,
 "nbformat_minor": 2
}
